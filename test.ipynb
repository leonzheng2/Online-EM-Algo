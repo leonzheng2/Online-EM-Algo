{
 "cells": [
  {
   "cell_type": "code",
   "execution_count": 17,
   "metadata": {},
   "outputs": [],
   "source": [
    "import matplotlib.pyplot as plt\n",
    "import pandas as pd\n",
    "import numpy as np\n",
    "import seaborn as sns"
   ]
  },
  {
   "cell_type": "code",
   "execution_count": 18,
   "metadata": {},
   "outputs": [
    {
     "name": "stdout",
     "output_type": "stream",
     "text": [
      "Initial Theta:\n",
      "[[90.68053352  3.06246734 16.99433652]\n",
      " [ 0.4505477   0.29887894  0.25057336]]\n"
     ]
    }
   ],
   "source": [
    "from mixture_poisson import poisson_random_param, sample_poisson, poisson_s_bar, poisson_theta_bar\n",
    "from online_EM import online_EM,online_EM2\n",
    "from batch_EM import batch_EM\n",
    "# Parameters\n",
    "n = 5000  # Size of the data set\n",
    "m = 3 # Number of clusters\n",
    "max_l = 100 # Maximum possible value for parameter lambda of Poisson\n",
    "\n",
    "# Random parameters\n",
    "l, p = poisson_random_param(m, max_l) # Ground truth\n",
    "\n",
    "# Manual parameters\n",
    "l = [1,10,100]\n",
    "p = [0.3,0.45,0.25]\n",
    "theta_true = np.array([p, l])\n",
    "\n",
    "# Data set\n",
    "Y, W = sample_poisson(n, l, p)\n",
    "\n",
    "# Initialization\n",
    "p_init, l_init = poisson_random_param(m, max_l)\n",
    "theta_init = np.array([p_init, l_init])\n",
    "print(f\"Initial Theta:\\n{theta_init}\")"
   ]
  },
  {
   "cell_type": "code",
   "execution_count": 19,
   "metadata": {},
   "outputs": [
    {
     "data": {
      "image/png": "[encoded data removed]",
      "text/plain": [
       "<Figure size 432x288 with 1 Axes>"
      ]
     },
     "metadata": {
      "needs_background": "light"
     },
     "output_type": "display_data"
    }
   ],
   "source": [
    "ax = sns.distplot(Y,kde=True,bins=50)"
   ]
  },
  {
   "cell_type": "code",
   "execution_count": 20,
   "metadata": {},
   "outputs": [
    {
     "data": {
      "image/png": "[encoded data removed]",
      "text/plain": [
       "<Figure size 432x288 with 1 Axes>"
      ]
     },
     "metadata": {
      "needs_background": "light"
     },
     "output_type": "display_data"
    }
   ],
   "source": [
    "# visualize data set \n",
    "data = pd.DataFrame({'Y':Y,'W':W})\n",
    "colors = ['g','r','b']\n",
    "\n",
    "for i in range(m):\n",
    "    ax = sns.distplot(data[data['W']==i]['Y'],kde=False,norm_hist=False,\\\n",
    "                      color = colors[i%len(colors)],label='Group{}'.format(i))"
   ]
  },
  {
   "cell_type": "code",
   "execution_count": 21,
   "metadata": {},
   "outputs": [],
   "source": [
    "# Stochastic Parameters\n",
    "gamma_0 = 1\n",
    "alpha = 1.\n",
    "gamma = np.array([gamma_0 * np.power(l, -alpha) for l in range(1, n+1)])"
   ]
  },
  {
   "cell_type": "code",
   "execution_count": 22,
   "metadata": {},
   "outputs": [],
   "source": [
    "\"\"\"\n",
    "Online EM algo\n",
    "\"\"\"\n",
    "# Online EM algo\n",
    "s, theta, all_theta = online_EM(Y, theta_init, gamma, poisson_s_bar, poisson_theta_bar, save_iter_theta = True)\n",
    "theta2, all_theta2 = online_EM2(Y, theta_init, gamma, save_iter_theta = True)\n",
    "\n",
    "# Batch EM algo\n",
    "max_iteration =5\n",
    "theta3,all_theta3 = batch_EM(Y, theta_init,max_iter = max_iteration,save_iter_theta = True)"
   ]
  },
  {
   "cell_type": "code",
   "execution_count": 23,
   "metadata": {},
   "outputs": [
    {
     "name": "stdout",
     "output_type": "stream",
     "text": [
      "\n",
      "===============\n",
      "Final results \n",
      "===============\n",
      "Truth:\n",
      "[[  0.3    0.45   0.25]\n",
      " [  1.    10.   100.  ]]\n",
      "Online EM after 5000 iterations:\n",
      "[[ 0.24141134  0.31188384  0.44670482]\n",
      " [97.6708311   1.01495901 10.03213817]]\n",
      "Online EM2 after 5000 iterations:\n",
      "[[ 0.31211487  0.23636704  0.4515181 ]\n",
      " [ 0.99316275 99.66193722 10.02314139]]\n",
      "Online EM3 after 5 iterations:\n",
      "[[ 0.2362      0.4556792   0.3081208 ]\n",
      " [99.66215072  9.97116481  0.95075557]]\n"
     ]
    }
   ],
   "source": [
    "# Output\n",
    "print(\"\\n===============\\nFinal results \\n===============\")\n",
    "print(f\"Truth:\\n{theta_true}\")\n",
    "print(f\"Online EM after {n} iterations:\\n{theta}\")\n",
    "print(f\"Online EM2 after {n} iterations:\\n{theta2}\")\n",
    "print(f\"Online EM3 after {max_iteration} iterations:\\n{theta3}\")"
   ]
  },
  {
   "cell_type": "code",
   "execution_count": 26,
   "metadata": {},
   "outputs": [
    {
     "data": {
      "text/plain": [
       "[<matplotlib.lines.Line2D at 0x1a113f8390>]"
      ]
     },
     "execution_count": 26,
     "metadata": {},
     "output_type": "execute_result"
    },
    {
     "data": {
      "image/png": "[encoded data removed]",
      "text/plain": [
       "<Figure size 432x288 with 1 Axes>"
      ]
     },
     "metadata": {
      "needs_background": "light"
     },
     "output_type": "display_data"
    }
   ],
   "source": [
    "# visualize the process of parameter convergence \n",
    "plt.plot(all_theta[1:,0])\n",
    "plt.plot(all_theta2[1:,1])"
   ]
  },
  {
   "cell_type": "code",
   "execution_count": 28,
   "metadata": {},
   "outputs": [],
   "source": [
    "alphas = [1.,0.6]\n",
    "gamma1 = np.array([gamma_0 * np.power(l, -alphas[0]) for l in range(1, n+1)])\n",
    "gamma2 = np.array([gamma_0 * np.power(l, -alphas[1]) for l in range(1, n+1)])"
   ]
  },
  {
   "cell_type": "code",
   "execution_count": 30,
   "metadata": {},
   "outputs": [],
   "source": [
    "s_g2, theta_g2, all_theta_g2 = online_EM(Y, theta_init, gamma2, poisson_s_bar, poisson_theta_bar, save_iter_theta = True)\n",
    "s_g1, theta_g1, all_theta_g1 = online_EM(Y, theta_init, gamma1, poisson_s_bar, poisson_theta_bar, save_iter_theta = True)"
   ]
  },
  {
   "cell_type": "code",
   "execution_count": 31,
   "metadata": {},
   "outputs": [
    {
     "data": {
      "text/plain": [
       "array([[ 0.24141134,  0.31188384,  0.44670482],\n",
       "       [97.6708311 ,  1.01495901, 10.03213817]])"
      ]
     },
     "execution_count": 31,
     "metadata": {},
     "output_type": "execute_result"
    }
   ],
   "source": [
    "theta_g1"
   ]
  },
  {
   "cell_type": "code",
   "execution_count": 32,
   "metadata": {},
   "outputs": [
    {
     "data": {
      "text/plain": [
       "array([[1.08519159e-02, 2.59837547e-01, 7.29310537e-01],\n",
       "       [9.95020641e+01, 9.95222856e+01, 6.15156249e+00]])"
      ]
     },
     "execution_count": 32,
     "metadata": {},
     "output_type": "execute_result"
    }
   ],
   "source": [
    "theta_g2"
   ]
  },
  {
   "cell_type": "code",
   "execution_count": 33,
   "metadata": {},
   "outputs": [
    {
     "data": {
      "text/plain": [
       "[<matplotlib.lines.Line2D at 0x1a111cb358>]"
      ]
     },
     "execution_count": 33,
     "metadata": {},
     "output_type": "execute_result"
    },
    {
     "data": {
      "image/png": "[encoded data removed]",
      "text/plain": [
       "<Figure size 432x288 with 1 Axes>"
      ]
     },
     "metadata": {
      "needs_background": "light"
     },
     "output_type": "display_data"
    }
   ],
   "source": [
    "# visualize the process of parameter convergence \n",
    "plt.plot(all_theta_g1[1:,0])\n",
    "plt.plot(all_theta_g2[1:,0])"
   ]
  },
  {
   "cell_type": "code",
   "execution_count": null,
   "metadata": {},
   "outputs": [],
   "source": []
  }
 ],
 "metadata": {
  "kernelspec": {
   "display_name": "Python 3",
   "language": "python",
   "name": "python3"
  },
  "language_info": {
   "codemirror_mode": {
    "name": "ipython",
    "version": 3
   },
   "file_extension": ".py",
   "mimetype": "text/x-python",
   "name": "python",
   "nbconvert_exporter": "python",
   "pygments_lexer": "ipython3",
   "version": "3.6.9"
  }
 },
 "nbformat": 4,
 "nbformat_minor": 2
}
